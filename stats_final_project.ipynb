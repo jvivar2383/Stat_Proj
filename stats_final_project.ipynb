{
 "cells": [
  {
   "cell_type": "code",
   "execution_count": 126,
   "metadata": {},
   "outputs": [],
   "source": [
    "import struct\n",
    "import gzip\n",
    "from pathlib import Path\n",
    "import numpy as np\n",
    "import pandas as pd\n",
    "import matplotlib.pyplot as plt\n",
    "# create dictionaries to store the data\n",
    "from sklearn.feature_selection import RFE\n",
    "from sklearn.linear_model import LogisticRegression\n",
    "from sklearn.pipeline import make_pipeline\n",
    "from sklearn.preprocessing import StandardScaler\n",
    "from sklearn.metrics import confusion_matrix"
   ]
  },
  {
   "cell_type": "code",
   "execution_count": 3,
   "metadata": {},
   "outputs": [],
   "source": [
    "train = dict()\n",
    "test = dict()"
   ]
  },
  {
   "cell_type": "code",
   "execution_count": 4,
   "metadata": {},
   "outputs": [],
   "source": [
    "def get_images(filename) :\n",
    "    with gzip.GzipFile(Path('mnist', filename), 'rb') as f:\n",
    "        magic, size, rows, cols = struct.unpack(\">IIII\", f.read(16))\n",
    "        print(magic, size, rows, cols)\n",
    "        images = np.frombuffer(f.read(), dtype=np.dtype('B'))\n",
    "    return images.reshape (size, rows, cols)"
   ]
  },
  {
   "cell_type": "code",
   "execution_count": 5,
   "metadata": {},
   "outputs": [
    {
     "name": "stdout",
     "output_type": "stream",
     "text": [
      "2051 60000 28 28\n",
      "2051 10000 28 28\n",
      "(60000, 28, 28) (10000, 28, 28)\n"
     ]
    }
   ],
   "source": [
    "train['image'] = get_images('train-images-idx3-ubyte.gz')\n",
    "test['image'] = get_images('t10k-images-idx3-ubyte.gz')\n",
    "print(train['image'].shape, test['image'].shape)"
   ]
  },
  {
   "cell_type": "code",
   "execution_count": 6,
   "metadata": {},
   "outputs": [
    {
     "data": {
      "text/plain": [
       "<matplotlib.image.AxesImage at 0x7fd2a1151d90>"
      ]
     },
     "execution_count": 6,
     "metadata": {},
     "output_type": "execute_result"
    },
    {
     "data": {
      "image/png": "[encoded data removed]",
      "text/plain": [
       "<Figure size 432x288 with 1 Axes>"
      ]
     },
     "metadata": {
      "needs_background": "light"
     },
     "output_type": "display_data"
    }
   ],
   "source": [
    "fig , ax = plt.subplots()\n",
    "ax.imshow(train['image'][0], cmap = 'gray')"
   ]
  },
  {
   "cell_type": "code",
   "execution_count": 7,
   "metadata": {},
   "outputs": [],
   "source": [
    "def get_labels(filename) :\n",
    "    with gzip.GzipFile(Path('mnist', filename), 'rb') as f:\n",
    "        magic, num = struct.unpack(\">II\", f.read( 8 ))\n",
    "        labels = np.frombuffer(f.read(), dtype=np.dtype('B'))\n",
    "    return labels"
   ]
  },
  {
   "cell_type": "code",
   "execution_count": 8,
   "metadata": {},
   "outputs": [
    {
     "name": "stdout",
     "output_type": "stream",
     "text": [
      "(60000,) (10000,)\n"
     ]
    }
   ],
   "source": [
    "train['label'] = get_labels('train-labels-idx1-ubyte.gz')\n",
    "test['label'] = get_labels('t10k-labels-idx1-ubyte.gz')\n",
    "print(train['label'].shape, test['label'].shape)"
   ]
  },
  {
   "cell_type": "code",
   "execution_count": 10,
   "metadata": {},
   "outputs": [
    {
     "data": {
      "text/plain": [
       "array([0, 1, 2, 3, 4, 5, 6, 7, 8, 9], dtype=uint8)"
      ]
     },
     "execution_count": 10,
     "metadata": {},
     "output_type": "execute_result"
    }
   ],
   "source": [
    "#check that labels are between expected values\n",
    "np.unique(train['label'])"
   ]
  },
  {
   "cell_type": "code",
   "execution_count": 20,
   "metadata": {},
   "outputs": [
    {
     "name": "stdout",
     "output_type": "stream",
     "text": [
      "(28, 28)\n"
     ]
    }
   ],
   "source": [
    "print(train['image'][0].shape)"
   ]
  },
  {
   "cell_type": "markdown",
   "metadata": {},
   "source": [
    "**\"Without any assumptions on the noise, the linear least squares solution for any i.i.d. sample will typically be biased w.r.t. the least squares optimum over the entire distribution. However, we show that if an i.i.d. sample of any size k is augmented by a certain small additional sample, then the solution of the combined sample becomes unbiased.\"** In this case I called that vector $\\beta_0 $ so that:\n",
    "\\Y(X) =\n",
    "  \\begin{cases}\n",
    "    1       & \\quad\\ X^{T}\\beta + \\beta_0 = k\\\\\n",
    "    -1  & \\quad\\ X^{T}\\beta + \\beta_0 \\neq k\n",
    "  \\end{cases}\n",
    "\\\n",
    "\n",
    "\n",
    "$k \\in [0,1, 2, ..., 9]$\n",
    "\n",
    "but if we incorporate a zeroth column of 1's into  X we can likewise include $\\beta_0$ in the complete coefficient vector $\\beta$ and write our model in the more compact form:\n",
    "\n",
    "$\n",
    "Y(X) = X^T \\beta\n",
    "$\n",
    "\n",
    "In this case $\\beta$ will determine the equation of the line given by Y so\n",
    "\n",
    "$\n",
    "\\beta = (X^T X)^{-1}X^TY \n",
    "$\n",
    "\n",
    " \n"
   ]
  },
  {
   "cell_type": "code",
   "execution_count": 92,
   "metadata": {},
   "outputs": [],
   "source": [
    "def oneD_bias_img(image):\n",
    "    #create a zero array and makes images 1D\n",
    "    flat = np.zeros((image.shape[0], np.product(image.shape[1:])))\n",
    "    for i in range(flat.shape[0]):\n",
    "        flat[i] = image[i].flatten()\n",
    "    #adds a column of 1's to prevent bias for i.i.d r.v.\n",
    "    unbias_array = np.concatenate([flat, np.ones((flat.shape[0], 1))], axis=1)\n",
    "    return unbias_array\n",
    "    \n",
    "def binary_response(labels, number):\n",
    "    \"\"\"takes the labels array and a number you would like the model to recognize\n",
    "    it returns an array of 1 and -1 depending if the target value was found\"\"\"\n",
    "    binary_col = np.zeros((labels.shape[0], 1))   \n",
    "    for i in range(binary_col.shape[0]):\n",
    "        \n",
    "        if labels[i] == number:\n",
    "            binary_col[i] = 1\n",
    "        else:\n",
    "            binary_col[i] = -1\n",
    "    return binary_col\n",
    "def beta(x, y):\n",
    "    b = np.matmul(np.linalg.pinv(np.matmul(x.transpose(), x)), np.matmul(x.transpose(), y))\n",
    "    return b"
   ]
  },
  {
   "cell_type": "code",
   "execution_count": 100,
   "metadata": {},
   "outputs": [
    {
     "data": {
      "text/plain": [
       "<matplotlib.colorbar.Colorbar at 0x7fd2a191b6d0>"
      ]
     },
     "execution_count": 100,
     "metadata": {},
     "output_type": "execute_result"
    },
    {
     "data": {
      "image/png": "[encoded data removed]",
      "text/plain": [
       "<Figure size 432x288 with 2 Axes>"
      ]
     },
     "metadata": {
      "needs_background": "light"
     },
     "output_type": "display_data"
    }
   ],
   "source": [
    "x = oneD_bias_img(train['image'])\n",
    "y = binary_response(train['label'], 1)\n",
    "betaa  = beta(x,y)\n",
    "p = (betaa[:784, 0].reshape(28,28)) #not sure what this has to be like this??\n",
    "ax = plt.imshow(p)\n",
    "plt.colorbar(ax)"
   ]
  },
  {
   "cell_type": "markdown",
   "metadata": {},
   "source": [
    "Now that I have my images in an array and my response variable in binary form I would like to normalize my\n",
    "data to better fit it into my model. I'm using sklearn.preprocessing package and I'm using a pipeline to standarized and plug into my model at once.\n"
   ]
  },
  {
   "cell_type": "code",
   "execution_count": 103,
   "metadata": {},
   "outputs": [
    {
     "name": "stderr",
     "output_type": "stream",
     "text": [
      "/Users/jenifervivar/opt/anaconda3/lib/python3.8/site-packages/sklearn/utils/validation.py:63: DataConversionWarning: A column-vector y was passed when a 1d array was expected. Please change the shape of y to (n_samples, ), for example using ravel().\n",
      "  return f(*args, **kwargs)\n",
      "/Users/jenifervivar/opt/anaconda3/lib/python3.8/site-packages/sklearn/linear_model/_logistic.py:763: ConvergenceWarning: lbfgs failed to converge (status=1):\n",
      "STOP: TOTAL NO. of ITERATIONS REACHED LIMIT.\n",
      "\n",
      "Increase the number of iterations (max_iter) or scale the data as shown in:\n",
      "    https://scikit-learn.org/stable/modules/preprocessing.html\n",
      "Please also refer to the documentation for alternative solver options:\n",
      "    https://scikit-learn.org/stable/modules/linear_model.html#logistic-regression\n",
      "  n_iter_i = _check_optimize_result(\n"
     ]
    },
    {
     "data": {
      "text/plain": [
       "Pipeline(steps=[('standardscaler', StandardScaler()),\n",
       "                ('logisticregression', LogisticRegression())])"
      ]
     },
     "execution_count": 103,
     "metadata": {},
     "output_type": "execute_result"
    }
   ],
   "source": [
    "pipe = make_pipeline(StandardScaler(), LogisticRegression())\n",
    "pipe.fit(x, y)"
   ]
  },
  {
   "cell_type": "code",
   "execution_count": 121,
   "metadata": {},
   "outputs": [],
   "source": [
    "test_x = oneD_bias_img(test['image'])\n",
    "y_pred =pipe.predict(test_x)"
   ]
  },
  {
   "cell_type": "code",
   "execution_count": 122,
   "metadata": {},
   "outputs": [],
   "source": [
    "result = pipe.predict(oneD_bias_img(test['image']))"
   ]
  },
  {
   "cell_type": "code",
   "execution_count": 123,
   "metadata": {},
   "outputs": [],
   "source": [
    "y1 = binary_labels(test['label'], 0)"
   ]
  },
  {
   "cell_type": "code",
   "execution_count": 124,
   "metadata": {},
   "outputs": [
    {
     "name": "stdout",
     "output_type": "stream",
     "text": [
      "Accuracy of logistic regression classifier on test set: 0.99\n"
     ]
    }
   ],
   "source": [
    "print('Accuracy of logistic regression classifier on test set: {:.2f}'.format(pipe.score(x, y)))"
   ]
  },
  {
   "cell_type": "markdown",
   "metadata": {},
   "source": [
    "Below is the confusion matrix for k = 0. "
   ]
  },
  {
   "cell_type": "code",
   "execution_count": 127,
   "metadata": {},
   "outputs": [
    {
     "name": "stdout",
     "output_type": "stream",
     "text": [
      "<class 'numpy.ndarray'>\n"
     ]
    }
   ],
   "source": [
    "confusion_matrixx = confusion_matrix(y1, y_pred)\n",
    "print(type(confusion_matrixx))"
   ]
  },
  {
   "cell_type": "code",
   "execution_count": 131,
   "metadata": {},
   "outputs": [
    {
     "name": "stdout",
     "output_type": "stream",
     "text": [
      "[[7873 1147]\n",
      " [ 980    0]]\n"
     ]
    }
   ],
   "source": [
    "print(confusion_matrixx)"
   ]
  },
  {
   "cell_type": "code",
   "execution_count": 133,
   "metadata": {},
   "outputs": [
    {
     "name": "stdout",
     "output_type": "stream",
     "text": [
      "True Positive = 7873, False Positive = 980, False Negative = 1147, and True Negative = 0\n"
     ]
    }
   ],
   "source": [
    "print(f\"True Positive = {confusion_matrixx[0,0]}, False Positive = {confusion_matrixx[1,0]}, \\\n",
    "False Negative = {confusion_matrixx[0,1]}, and True Negative = {confusion_matrixx[1,1]}\")"
   ]
  },
  {
   "cell_type": "code",
   "execution_count": null,
   "metadata": {},
   "outputs": [],
   "source": []
  }
 ],
 "metadata": {
  "kernelspec": {
   "display_name": "Python 3",
   "language": "python",
   "name": "python3"
  },
  "language_info": {
   "codemirror_mode": {
    "name": "ipython",
    "version": 3
   },
   "file_extension": ".py",
   "mimetype": "text/x-python",
   "name": "python",
   "nbconvert_exporter": "python",
   "pygments_lexer": "ipython3",
   "version": "3.8.8"
  }
 },
 "nbformat": 4,
 "nbformat_minor": 4
}
